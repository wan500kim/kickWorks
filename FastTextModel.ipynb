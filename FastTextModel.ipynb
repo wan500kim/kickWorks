{
 "cells": [
  {
   "cell_type": "markdown",
   "metadata": {},
   "source": [
    "## FastText Embedding Model 생성"
   ]
  },
  {
   "cell_type": "markdown",
   "metadata": {},
   "source": [
    "### [크롤링 데이터 병합]"
   ]
  },
  {
   "cell_type": "code",
   "execution_count": 25,
   "metadata": {},
   "outputs": [
    {
     "name": "stdout",
     "output_type": "stream",
     "text": [
      "./Youtube_comments.csv 91281 228250\n",
      "./ilbe_comments.csv 136969 228250\n",
      "dataset.txt 5825 234075\n",
      "fword_list.txt 3577 237652\n"
     ]
    }
   ],
   "source": [
    "import os\n",
    "import pandas as pd\n",
    "import numpy as np\n",
    "Youtube_path = \"./Youtube_comments.csv\"\n",
    "ilbe_path = \"./ilbe_comments.csv\"\n",
    "\n",
    "Comment_df = pd.DataFrame()\n",
    "\n",
    "df1 = pd.read_csv(Youtube_path, encoding=\"cp949\", header=None, names=[0])\n",
    "df2 = pd.read_csv(ilbe_path, encoding=\"cp949\", header=None, names=[0])\n",
    "            \n",
    "Comment_df = pd.concat([Comment_df, df1])\n",
    "Comment_df = pd.concat([Comment_df, df2])\n",
    "        \n",
    "print(Youtube_path, len(df1), len(Comment_df))\n",
    "print(ilbe_path, len(df2), len(Comment_df))\n",
    "\n",
    "# dataset.txt, fword_list.txt 넣기\n",
    "with open('dataset.txt', 'r', encoding='UTF8') as f:\n",
    "    dataset_list = []\n",
    "    i = 0\n",
    "    while True:\n",
    "        line = f.readline()\n",
    "        if line == '' :\n",
    "            break\n",
    "        dataset_list.append(line.strip().split('|')[0])\n",
    "        i += 1\n",
    "    df3 = pd.Series(dataset_list)\n",
    "    Comment_df = pd.concat([Comment_df, df3])\n",
    "    print(\"dataset.txt\", i, len(Comment_df))\n",
    "\n",
    "with open('fword_list.txt', 'r', encoding='UTF8') as f:\n",
    "    dataset_list = []\n",
    "    i = 0\n",
    "    while True:\n",
    "        line = f.readline()\n",
    "        if line == '' :\n",
    "            break\n",
    "        dataset_list.append(line)\n",
    "        i += 1\n",
    "    df4 = pd.Series(dataset_list)\n",
    "    Comment_df = pd.concat([Comment_df, df4])\n",
    "    print(\"fword_list.txt\", i, len(Comment_df))"
   ]
  }
 ],
 "metadata": {
  "kernelspec": {
   "display_name": "Python 3.9.13 64-bit",
   "language": "python",
   "name": "python3"
  },
  "language_info": {
   "codemirror_mode": {
    "name": "ipython",
    "version": 3
   },
   "file_extension": ".py",
   "mimetype": "text/x-python",
   "name": "python",
   "nbconvert_exporter": "python",
   "pygments_lexer": "ipython3",
   "version": "3.9.13"
  },
  "vscode": {
   "interpreter": {
    "hash": "03aab4221eabb5b090947200f58522311c44e3968445c8816a77822b1318598f"
   }
  }
 },
 "nbformat": 4,
 "nbformat_minor": 4
}
