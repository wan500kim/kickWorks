{
 "cells": [
  {
   "cell_type": "markdown",
   "metadata": {},
   "source": [
    "## **Bananakick 구동 코드**\n",
    "- 최종 결과물은 .py로 합칠 것이므로 함수 의주로 구현\n",
    "- 정규식 표현을 통해 욕설 위치 추출\n",
    "- 좌우 단어를 포함한 trigram 반환\n",
    "- FastText Embedding Model을 활용하여 trigram을 Vectorize\n",
    "- Vectorize된 데이터를 CNN Model에 넣어 예측\n",
    "- 예측 정도에 따라 욕설로 판단된 어절을 순화(치환)하여 생성된 문장을 출력"
   ]
  },
  {
   "cell_type": "code",
   "execution_count": 100,
   "metadata": {},
   "outputs": [],
   "source": [
    "import re\n",
    "\n",
    "with open('./fword_list.txt', 'r', encoding='UTF8') as f:\n",
    "    fword_str = ''\n",
    "    while True:\n",
    "        line = f.readline()\n",
    "        if line == '' :\n",
    "            break\n",
    "        fword_str += line.strip('\\n') + '|'\n",
    "    fword_str = fword_str[:-2]\n",
    "\n",
    "def make_trigram(sentence):\n",
    "    word_position = []\n",
    "    word_index = 0\n",
    "\n",
    "    for char in sentence:\n",
    "        word_position.append(word_index)\n",
    "        if char == \" \":\n",
    "            word_index += 1\n",
    "\n",
    "    # 비속어 위치 찾기\n",
    "    badwords = []\n",
    "    pattern = re.compile(fword_str)\n",
    "    matchObjs = re.finditer(pattern, sentence)\n",
    "    badwords += [word_position[obj.span()[0]] for obj in matchObjs] # 해당 단어가 속한 어절의 위치\n",
    "    print(badwords)\n",
    "\n",
    "    sentence = [\" \"] + sentence.split(\" \") + [\" \"] # 맨 앞, 맨 뒤 padding\n",
    "    badwords = list(set(badwords))\n",
    "\n",
    "    return [(sentence[index], sentence[index+1], sentence[index+2], index) for index in badwords]"
   ]
  },
  {
   "cell_type": "code",
   "execution_count": null,
   "metadata": {},
   "outputs": [],
   "source": [
    "# 모델 불러오기\n",
    "from gensim.models import FastText\n",
    "from keras.models import load_model\n",
    "import numpy as np\n",
    "\n",
    "fasttext_model = FastText.load(\"./Fasttext.model\")\n",
    "cnn_model = load_model(\"./CNN_model\")"
   ]
  },
  {
   "cell_type": "markdown",
   "metadata": {},
   "source": [
    "### [전처리에 필요한 함수]"
   ]
  },
  {
   "cell_type": "code",
   "execution_count": 102,
   "metadata": {},
   "outputs": [],
   "source": [
    "# vectorize를 위해 리스트를 청크 단위로 분해\n",
    "# n = 청크 단위\n",
    "def chunks(l, n, trigram_list):\n",
    "        for i in range(0, len(l), n):\n",
    "            yield (l[i:i + n], trigram_list[i//n][-1])\n",
    "\n",
    "\n",
    "# 자모분리기\n",
    "CHOSUNG_LIST = [u'ㄱ',u'ㄲ',u'ㄴ',u'ㄷ',u'ㄸ',u'ㄹ',u'ㅁ',u'ㅂ',u'ㅃ',u'ㅅ',u'ㅆ',u'ㅇ',u'ㅈ',u'ㅉ',u'ㅊ',u'ㅋ',u'ㅌ',u'ㅍ',u'ㅎ']\n",
    "JOONGSUNG_LISTS = [u'ㅏ',u'ㅐ',u'ㅑ',u'ㅒ',u'ㅓ',u'ㅔ',u'ㅕ',u'ㅖ',u'ㅗ',u'ㅘ',u'ㅙ',u'ㅚ',u'ㅛ',u'ㅜ',u'ㅝ',u'ㅞ',u'ㅟ',u'ㅠ',u'ㅡ',u'ㅢ',u'ㅣ']\n",
    "JONGSUNG_LIST = [u'_',u'ㄱ',u'ㄲ',u'ㄳ',u'ㄴ',u'ㄵ',u'ㄶ',u'ㄷ',u'ㄹ',u'ㄺ',u'ㄻ',u'ㄼ',u'ㄽ',u'ㄾ',u'ㄿ',u'ㅀ',u'ㅁ',u'ㅂ',u'ㅄ',u'ㅅ',u'ㅆ',u'ㅇ',u'ㅈ',u'ㅊ',u'ㅋ',u'ㅌ',u'ㅍ',u'ㅎ']\n",
    "\n",
    "def kor_decompose(word, end_char=\"_\"):\n",
    "    result = []\n",
    "    \n",
    "    for char in word:\n",
    "        char_unicode = ord(char)\n",
    "        \n",
    "        if 0xD7A3 < char_unicode or char_unicode < 0xAC00:\n",
    "            result.append(char)\n",
    "            continue\n",
    "\n",
    "        chosung_index = int((((char_unicode - 0xAC00) / 28) / 21) % 19)\n",
    "        joongsung_index = int(((char_unicode - 0xAC00) / 28) % 21)\n",
    "        jongsung_index = int((char_unicode - 0xAC00) % 28)\n",
    "        \n",
    "        chosung = CHOSUNG_LIST[chosung_index]\n",
    "        joongsung = JOONGSUNG_LISTS[joongsung_index]\n",
    "        jongsung = JONGSUNG_LIST[jongsung_index]\n",
    "        \n",
    "        # 종성이 없을 경우 end_char\n",
    "        if jongsung_index == 0:\n",
    "            jongsung = end_char\n",
    "        \n",
    "        result.append(chosung)\n",
    "        result.append(joongsung)\n",
    "        result.append(jongsung)\n",
    "\n",
    "    return \"\".join(result)"
   ]
  },
  {
   "cell_type": "code",
   "execution_count": 103,
   "metadata": {},
   "outputs": [],
   "source": [
    "import warnings\n",
    "warnings.filterwarnings(\"ignore\", category=np.VisibleDeprecationWarning)\n",
    "mode = 0\n",
    "\n",
    "def bananaKick(text: str, ref_val=0.65, modes=0):\n",
    "    global mode\n",
    "    mode = modes\n",
    "    trigram_list = make_trigram(text)\n",
    "    \n",
    "    # vectorize\n",
    "    trigram_vec = np.array([np.array(fasttext_model.wv[kor_decompose(word)]) for trigram in trigram_list for word in trigram[:-1]])\n",
    "    trigram_vec = np.array(list(chunks(trigram_vec, 3, trigram_list)))\n",
    "    trigram_vec = np.array([np.append(_[0].flatten(), _[1]) for _ in trigram_vec]) # 151 dimension\n",
    "\n",
    "    # 단어 위치만 뽑아내어 분리\n",
    "    word_index = np.int8(trigram_vec[:, -1])\n",
    "    trigram_vec = np.delete(trigram_vec, -1, axis=1)\n",
    "\n",
    "    # keras input에 맞추기\n",
    "    trigram_vec = trigram_vec.reshape(trigram_vec.shape[0], trigram_vec.shape[1], 1)\n",
    "    last_index, result = cnn_predict(trigram_vec, ref_val, word_index)\n",
    "    \n",
    "    return cnn_result(last_index, result, text, trigram_list)\n",
    "\n",
    "def cnn_predict(trigram_vec, ref_val, word_index):\n",
    "    result = cnn_model.predict(trigram_vec) > ref_val # 기본값 = 0.65보다 높으면 욕설\n",
    "    result = result.reshape(-1).tolist()\n",
    "    if mode == 1:\n",
    "        cnn_describe(trigram_vec, result, word_index)\n",
    "\n",
    "    all_index = word_index.tolist()\n",
    "    #print(\"all_index =\", all_index)\n",
    "    true_index = result\n",
    "    #print(\"true_index =\", true_index)\n",
    "\n",
    "    i = 0\n",
    "    last_index = []\n",
    "    for num in all_index:\n",
    "        if true_index[i] == True:\n",
    "            last_index.append(num)\n",
    "        i += 1\n",
    "        \n",
    "    return last_index, result"
   ]
  }
 ],
 "metadata": {
  "kernelspec": {
   "display_name": "Python 3.9.13 64-bit",
   "language": "python",
   "name": "python3"
  },
  "language_info": {
   "codemirror_mode": {
    "name": "ipython",
    "version": 3
   },
   "file_extension": ".py",
   "mimetype": "text/x-python",
   "name": "python",
   "nbconvert_exporter": "python",
   "pygments_lexer": "ipython3",
   "version": "3.9.13"
  },
  "vscode": {
   "interpreter": {
    "hash": "03aab4221eabb5b090947200f58522311c44e3968445c8816a77822b1318598f"
   }
  }
 },
 "nbformat": 4,
 "nbformat_minor": 4
}
