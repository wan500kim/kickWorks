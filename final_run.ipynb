{
 "cells": [
  {
   "cell_type": "markdown",
   "metadata": {},
   "source": [
    "## **Bananakick 구동 코드**\n",
    "- 최종 결과물은 .py로 합칠 것이므로 함수 의주로 구현\n",
    "- 정규식 표현을 통해 욕설 위치 추출\n",
    "- 좌우 단어를 포함한 trigram 반환\n",
    "- FastText Embedding Model을 활용하여 trigram을 Vectorize\n",
    "- Vectorize된 데이터를 CNN Model에 넣어 예측\n",
    "- 예측 정도에 따라 욕설로 판단된 어절을 순화(치환)하여 생성된 문장을 출력"
   ]
  },
  {
   "cell_type": "code",
   "execution_count": 100,
   "metadata": {},
   "outputs": [],
   "source": [
    "import re\n",
    "\n",
    "with open('./fword_list.txt', 'r', encoding='UTF8') as f:\n",
    "    fword_str = ''\n",
    "    while True:\n",
    "        line = f.readline()\n",
    "        if line == '' :\n",
    "            break\n",
    "        fword_str += line.strip('\\n') + '|'\n",
    "    fword_str = fword_str[:-2]"
   ]
  }
 ],
 "metadata": {
  "kernelspec": {
   "display_name": "Python 3.9.13 64-bit",
   "language": "python",
   "name": "python3"
  },
  "language_info": {
   "codemirror_mode": {
    "name": "ipython",
    "version": 3
   },
   "file_extension": ".py",
   "mimetype": "text/x-python",
   "name": "python",
   "nbconvert_exporter": "python",
   "pygments_lexer": "ipython3",
   "version": "3.9.13"
  },
  "vscode": {
   "interpreter": {
    "hash": "03aab4221eabb5b090947200f58522311c44e3968445c8816a77822b1318598f"
   }
  }
 },
 "nbformat": 4,
 "nbformat_minor": 4
}
